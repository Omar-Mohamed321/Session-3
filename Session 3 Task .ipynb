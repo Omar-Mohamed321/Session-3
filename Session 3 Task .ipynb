{
 "cells": [
  {
   "cell_type": "code",
   "execution_count": 27,
   "id": "dc5e60f2-ded6-469a-b6f2-a44c55d06566",
   "metadata": {},
   "outputs": [
    {
     "name": "stdout",
     "output_type": "stream",
     "text": [
      " It is a hot day . Stay hydrated ! \n"
     ]
    }
   ],
   "source": [
    "# the Temperature = X\n",
    "X = 35\n",
    "if X >= 30 :\n",
    "                 print(\" It is a hot day . Stay hydrated ! \")"
   ]
  },
  {
   "cell_type": "code",
   "execution_count": 29,
   "id": "e3c502d3-30f8-4d9f-94c3-40ec38f35ff9",
   "metadata": {},
   "outputs": [
    {
     "name": "stdout",
     "output_type": "stream",
     "text": [
      " It is a Warm day . Enjoy the Weather ! \n"
     ]
    }
   ],
   "source": [
    "# the Temperature = X\n",
    "X = 25\n",
    "if X >= 20 and X <= 29 :\n",
    "                 print(\" It is a Warm day . Enjoy the Weather ! \")\n"
   ]
  },
  {
   "cell_type": "code",
   "execution_count": 34,
   "id": "0b413d5b-067b-482e-8374-bdd3ddb90dd2",
   "metadata": {},
   "outputs": [
    {
     "name": "stdout",
     "output_type": "stream",
     "text": [
      " It is a Cool day . Wear a Jacket ! \n"
     ]
    }
   ],
   "source": [
    "# the Temperature = X\n",
    "X = 15\n",
    "if X >= 10 and X <= 19 :\n",
    "                 print(\" It is a Cool day . Wear a Jacket ! \")"
   ]
  },
  {
   "cell_type": "code",
   "execution_count": 36,
   "id": "367dc29a-1f2f-4933-abd9-b63b0d293431",
   "metadata": {},
   "outputs": [
    {
     "name": "stdout",
     "output_type": "stream",
     "text": [
      " It is a Cold day . Stay Warm  ! \n"
     ]
    }
   ],
   "source": [
    "# the Temperature = X\n",
    "X = 9\n",
    "if X < 10 :\n",
    "                 print(\" It is a Cold day . Stay Warm  ! \")"
   ]
  },
  {
   "cell_type": "code",
   "execution_count": 68,
   "id": "267e9882-9890-4bfb-863c-978fb240858a",
   "metadata": {},
   "outputs": [
    {
     "name": "stdout",
     "output_type": "stream",
     "text": [
      " It is a Warm day . Enjoy the Weather ! \n"
     ]
    }
   ],
   "source": [
    "# the Temperature = X  إعادة السؤال الأول بطريقة أخرى \n",
    "X = 25\n",
    "if X >= 30 :\n",
    "                 print(\" It is a hot day . Stay hydrated ! \")\n",
    "elif X >= 20 and X <= 29 :\n",
    "                 print(\" It is a Warm day . Enjoy the Weather ! \")\n",
    "elif X >= 10 and X <= 19 :\n",
    "                 print(\" It is a Cool day . Wear a Jacket ! \") \n",
    "else : \n",
    "    print(\" It is a Cold day . Stay Warm  ! \")\n"
   ]
  },
  {
   "cell_type": "code",
   "execution_count": 70,
   "id": "98e85bbe-a598-4ac0-989a-2c21fd04ae03",
   "metadata": {},
   "outputs": [
    {
     "name": "stdout",
     "output_type": "stream",
     "text": [
      " It is a hot day . Stay hydrated ! \n"
     ]
    }
   ],
   "source": [
    "# the Temperature = X\n",
    "X = 31\n",
    "if X >= 30 :\n",
    "                 print(\" It is a hot day . Stay hydrated ! \")\n",
    "elif X >= 20 and X <= 29 :\n",
    "                 print(\" It is a Warm day . Enjoy the Weather ! \")\n",
    "elif X >= 10 and X <= 19 :\n",
    "                 print(\" It is a Cool day . Wear a Jacket ! \") \n",
    "else : \n",
    "    print(\" It is a Cold day . Stay Warm  ! \")"
   ]
  },
  {
   "cell_type": "code",
   "execution_count": 72,
   "id": "b108fbc1-477f-4a7a-945c-7be02316b3cb",
   "metadata": {},
   "outputs": [
    {
     "name": "stdout",
     "output_type": "stream",
     "text": [
      " It is a Cool day . Wear a Jacket ! \n"
     ]
    }
   ],
   "source": [
    "# the Temperature = X\n",
    "X = 14\n",
    "if X >= 30 :\n",
    "                 print(\" It is a hot day . Stay hydrated ! \")\n",
    "elif X >= 20 and X <= 29 :\n",
    "                 print(\" It is a Warm day . Enjoy the Weather ! \")\n",
    "elif X >= 10 and X <= 19 :\n",
    "                 print(\" It is a Cool day . Wear a Jacket ! \") \n",
    "else : \n",
    "    print(\" It is a Cold day . Stay Warm  ! \")"
   ]
  },
  {
   "cell_type": "code",
   "execution_count": 74,
   "id": "909e89dd-70a5-4beb-9f88-a51e193393ca",
   "metadata": {},
   "outputs": [
    {
     "name": "stdout",
     "output_type": "stream",
     "text": [
      " It is a Cold day . Stay Warm  ! \n"
     ]
    }
   ],
   "source": [
    "# the Temperature = X\n",
    "X = 3\n",
    "if X >= 30 :\n",
    "                 print(\" It is a hot day . Stay hydrated ! \")\n",
    "elif X >= 20 and X <= 29 :\n",
    "                 print(\" It is a Warm day . Enjoy the Weather ! \")\n",
    "elif X >= 10 and X <= 19 :\n",
    "                 print(\" It is a Cool day . Wear a Jacket ! \") \n",
    "else : \n",
    "    print(\" It is a Cold day . Stay Warm  ! \")"
   ]
  },
  {
   "cell_type": "code",
   "execution_count": 65,
   "id": "80f48e1b-9fcb-4cb7-89c3-7b3313ecbd9e",
   "metadata": {},
   "outputs": [
    {
     "name": "stdout",
     "output_type": "stream",
     "text": [
      "The list of numbers is:  [1, 2, 3, 4, 5, 6, 7, 8, 9, 10, 11, 12, 13, 14, 15, 16, 17, 18, 19, 20]\n"
     ]
    }
   ],
   "source": [
    "# List Of Integers From 1 To 20        Name a List = M\n",
    "M = list(range(1, 21))\n",
    "print(\"The list of numbers is: \", M)"
   ]
  },
  {
   "cell_type": "code",
   "execution_count": 78,
   "id": "c9d5e365-9b29-4618-8777-6e95519f3014",
   "metadata": {},
   "outputs": [
    {
     "name": "stdout",
     "output_type": "stream",
     "text": [
      "3\n",
      "12\n",
      "15\n",
      "24\n",
      "33\n"
     ]
    }
   ],
   "source": [
    "#  find all the numbers in the list that are divisible by 3\n",
    "Numbers_List = [ 3 , 5 , 12 , 15 , 20 , 24 , 28 , 32 , 33]\n",
    "for Num in Numbers_List:\n",
    "    if Num % 3 == 0 :\n",
    "        print(int(Num))\n"
   ]
  },
  {
   "cell_type": "code",
   "execution_count": 87,
   "id": "2b11c609-000b-444d-9b6a-f5bc071f5a7b",
   "metadata": {},
   "outputs": [
    {
     "name": "stdout",
     "output_type": "stream",
     "text": [
      "0\n",
      "3\n",
      "6\n",
      "9\n"
     ]
    }
   ],
   "source": [
    "# Print the numbers divisible by 3         Numbers = O\n",
    "O = [0 , 1 , 2 , 3 , 4 , 5 , 6 , 7 , 8 , 9 , 10]\n",
    "for Num in O :\n",
    "    if Num % 3 == 0 :\n",
    "        print(Num)\n",
    "\n"
   ]
  },
  {
   "cell_type": "code",
   "execution_count": null,
   "id": "745412b3-7f06-4fb8-8d54-41b80f90cfba",
   "metadata": {},
   "outputs": [],
   "source": []
  }
 ],
 "metadata": {
  "kernelspec": {
   "display_name": "Python [conda env:anaconda3]",
   "language": "python",
   "name": "conda-env-anaconda3-py"
  },
  "language_info": {
   "codemirror_mode": {
    "name": "ipython",
    "version": 3
   },
   "file_extension": ".py",
   "mimetype": "text/x-python",
   "name": "python",
   "nbconvert_exporter": "python",
   "pygments_lexer": "ipython3",
   "version": "3.12.7"
  }
 },
 "nbformat": 4,
 "nbformat_minor": 5
}
